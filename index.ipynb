{
 "cells": [
  {
   "cell_type": "markdown",
   "metadata": {},
   "source": [
    "# Building a Recommendation System in PySpark - Lab\n",
    "\n",
    "## Introduction\n",
    "\n",
    "In this lab, we will implement a movie recommendation system using ALS in Spark programming environment. Spark's machine learning library `ml` comes packaged with a very efficient implementation of the ALS algorithm that we looked at in the previous lesson. The lab will require you to put into practice your Spark programming skills for creating and manipulating PySpark DataFrames. We will go through a step-by-step process into developing a movie recommendation system using ALS and PySpark using the `MovieLens` dataset that we used in a previous lab.\n",
    "\n",
    "Note: You are advised to refer to [PySpark documentation](http://spark.apache.org/docs/2.2.0/api/python/index.html) heavily for completing this lab as it will introduce a few new methods. \n",
    "\n",
    "\n",
    "## Objectives\n",
    "\n",
    "In this lab you will: \n",
    "\n",
    "- Use Spark to train and cross-validate an ALS model \n",
    "- Introduce a new user with rating to a rating matrix and make recommendations for them \n",
    "- Create a function that will return the top n recommendations for a user "
   ]
  },
  {
   "cell_type": "markdown",
   "metadata": {},
   "source": [
    "## Building a Recommendation System\n",
    "\n",
    "We have seen how recommendation systems have played an integral part in the success of Amazon (books, items), Pandora/Spotify (music), Google (news, search), YouTube (videos) etc.  For Amazon, these systems bring more than 30% of their total revenue. For Netflix, 75% of movies that people watch are based on some sort of recommendation.\n",
    "\n",
    "> The goal of recommendation systems is to find what is likely to be of interest to the user. This enables organizations to offer a high level of personalization and customer tailored services.\n",
    "\n",
    "\n",
    "For online video content services like Netflix and Hulu, the need to build robust movie recommendation systems is extremely important. An example of a recommendation system is such as this:\n",
    "\n",
    "1.    User A watches Game of Thrones and Breaking Bad \n",
    "2.    User B performs a search query for Game of Thrones \n",
    "3.    The system suggests Breaking Bad to user B from data collected about user A \n",
    "\n",
    "\n",
    "This lab will guide you through a step-by-step process into developing such a movie recommendation system. We will use the `MovieLens` dataset to build a movie recommendation system using the collaborative filtering technique with Spark's Alternating Least Squares implementation. After building that recommendation system, we will go through the process of adding a new user to the dataset with some new ratings and obtaining new recommendations for that user.\n",
    "\n",
    "### Importing the Data\n",
    "\n",
    "* Initialize a `SparkSession` object\n",
    "* Import the dataset found at `'./data/ratings.csv'` into a PySpark DataFrame"
   ]
  },
  {
   "cell_type": "code",
   "execution_count": 100,
   "metadata": {},
   "outputs": [],
   "source": [
    "# import necessary libraries\n",
    "from pyspark.sql import SparkSession\n",
    "# instantiate SparkSession object\n",
    "# spark = SparkSession.builder.master(\"local\").getOrCreate()\n",
    "spark = SparkSession.builder.master('local').getOrCreate()"
   ]
  },
  {
   "cell_type": "code",
   "execution_count": 4,
   "metadata": {},
   "outputs": [],
   "source": [
    "# read in the dataset into pyspark DataFrame\n",
    "movie_ratings = spark.read.csv(\"./data/ratings.csv\", header=\"true\", inferSchema=\"true\")"
   ]
  },
  {
   "cell_type": "markdown",
   "metadata": {},
   "source": [
    "Check the data types of each of the columns to ensure that they are a type that makes sense given the column."
   ]
  },
  {
   "cell_type": "code",
   "execution_count": 6,
   "metadata": {},
   "outputs": [
    {
     "data": {
      "text/plain": [
       "[('userId', 'int'),\n",
       " ('movieId', 'int'),\n",
       " ('rating', 'double'),\n",
       " ('timestamp', 'int')]"
      ]
     },
     "execution_count": 6,
     "metadata": {},
     "output_type": "execute_result"
    }
   ],
   "source": [
    "movie_ratings.dtypes"
   ]
  },
  {
   "cell_type": "markdown",
   "metadata": {},
   "source": [
    "We aren't going to need the timestamp, so we can go ahead and remove that column."
   ]
  },
  {
   "cell_type": "code",
   "execution_count": 7,
   "metadata": {},
   "outputs": [
    {
     "data": {
      "text/plain": [
       "[('userId', 'int'), ('movieId', 'int'), ('rating', 'double')]"
      ]
     },
     "execution_count": 7,
     "metadata": {},
     "output_type": "execute_result"
    }
   ],
   "source": [
    "movie_ratings = movie_ratings.drop('timestamp')\n",
    "movie_ratings.dtypes"
   ]
  },
  {
   "cell_type": "markdown",
   "metadata": {},
   "source": [
    "### Fitting the Alternating Least Squares Model"
   ]
  },
  {
   "cell_type": "markdown",
   "metadata": {},
   "source": [
    "Because this dataset is already preprocessed for us, we can go ahead and fit the Alternating Least Squares model.\n",
    "\n",
    "* Import `ALS` from `pyspark.ml.recommendation` module \n",
    "* Use the `.randomSplit()` method on the pyspark DataFrame to separate the dataset into training and test sets\n",
    "* Fit the Alternating Least Squares Model to the training dataset. Make sure to set the `userCol`, `itemCol`, and `ratingCol` to the appropriate columns given this dataset. Then fit the data to the training set and assign it to a variable model  "
   ]
  },
  {
   "cell_type": "code",
   "execution_count": 8,
   "metadata": {},
   "outputs": [
    {
     "name": "stderr",
     "output_type": "stream",
     "text": [
      "24/01/14 11:45:36 WARN BLAS: Failed to load implementation from: com.github.fommil.netlib.NativeSystemBLAS\n",
      "24/01/14 11:45:36 WARN BLAS: Failed to load implementation from: com.github.fommil.netlib.NativeRefBLAS\n",
      "24/01/14 11:45:36 WARN LAPACK: Failed to load implementation from: com.github.fommil.netlib.NativeSystemLAPACK\n",
      "24/01/14 11:45:36 WARN LAPACK: Failed to load implementation from: com.github.fommil.netlib.NativeRefLAPACK\n",
      "                                                                                \r"
     ]
    }
   ],
   "source": [
    "from pyspark.ml.recommendation import ALS \n",
    "\n",
    "# split into training and testing sets\n",
    "train, test = movie_ratings.randomSplit(weights=[0.8, 0.2], seed=1)\n",
    "\n",
    "# Build the recommendation model using ALS on the training data\n",
    "# Note we set cold start strategy to 'drop' to ensure we don't get NaN evaluation metrics\n",
    "als = ALS(userCol= 'userId', itemCol='movieId', ratingCol = 'rating', coldStartStrategy='drop')\n",
    "# fit the ALS model to the training set\n",
    "model = als.fit(train)"
   ]
  },
  {
   "cell_type": "markdown",
   "metadata": {},
   "source": [
    "Now you've fit the model, and it's time to evaluate it to determine just how well it performed.\n",
    "\n",
    "* Import `RegressionEvalutor` from `pyspark.ml.evaluation` \n",
    "* Generate predictions with your model for the test set by using the `.transform()` method on your ALS model \n",
    "* Evaluate your model and print out the RMSE from your test set "
   ]
  },
  {
   "cell_type": "code",
   "execution_count": 11,
   "metadata": {},
   "outputs": [
    {
     "name": "stderr",
     "output_type": "stream",
     "text": [
      "[Stage 83:===================================================>  (191 + 1) / 200]\r"
     ]
    },
    {
     "name": "stdout",
     "output_type": "stream",
     "text": [
      "Root Mean Squared Error (RMSE) on test data = 0.878404938984475\n"
     ]
    },
    {
     "name": "stderr",
     "output_type": "stream",
     "text": [
      "                                                                                \r"
     ]
    }
   ],
   "source": [
    "# importing appropriate library\n",
    "from pyspark.ml.evaluation import RegressionEvaluator\n",
    "evaluator = RegressionEvaluator(metricName=\"rmse\", labelCol=\"rating\", predictionCol=\"prediction\")\n",
    "\n",
    "# Evaluate the model by computing the RMSE on the test data\n",
    "preds = model.transform(test)\n",
    "rmse = evaluator.evaluate(preds)\n",
    "\n",
    "print(\"Root Mean Squared Error (RMSE) on test data =\", rmse)"
   ]
  },
  {
   "cell_type": "markdown",
   "metadata": {},
   "source": [
    "### Cross-validation to Find the Optimal Model\n",
    "\n",
    "Let's now find the optimal values for the parameters of the ALS model. Use the built-in `CrossValidator` in PySpark with a suitable param grid and determine the optimal model. Try with the parameters:\n",
    "\n",
    "* regularization = [0.01, 0.001, 0.1]\n",
    "* rank = [4, 10, 50]\n"
   ]
  },
  {
   "cell_type": "code",
   "execution_count": null,
   "metadata": {},
   "outputs": [],
   "source": [
    "from pyspark.ml.tuning import CrossValidator, ParamGridBuilder\n",
    "\n",
    "# initialize the ALS model\n",
    "als = ALS(userCol= 'userId', itemCol='movieId', ratingCol = 'rating', coldStartStrategy='drop')\n",
    "evaluator = RegressionEvaluator(metricName=\"rmse\", labelCol=\"rating\", predictionCol=\"prediction\")\n",
    "\n",
    "# create the parameter grid              \n",
    "params = (ParamGridBuilder()\n",
    "          .addGrid(als.regParam, [0.01, 0.001, 0.1])\n",
    "          .addGrid(als.rank, [4, 10, 50])\n",
    "          .build())\n",
    "\n",
    "\n",
    "# instantiating crossvalidator estimator\n",
    "cv = CrossValidator(estimator=als,\n",
    "                    estimatorParamMaps=params,\n",
    "                    evaluator=evaluator)\n",
    "\n",
    "cvModel = cv.fit(movie_ratings)\n",
    "\n",
    "bestModel = cvModel.bestModel\n",
    "\n",
    "bestScore = min(cvModel.avgMetrics)\n",
    "\n",
    "bestParams = bestModel.extractParamMap()\n",
    "\n",
    "print(\"Best Model Score (RMSE):\", bestScore)\n",
    "print(\"Best Model Parameters:\")\n",
    "for param, value in bestParams.items():\n",
    "    print(f\"{param.name}: {value}\")\n",
    "\n",
    "print(\"Best Model Parameters:\")\n",
    "for param in [als.regParam, als.rank]:\n",
    "    print(f\"{param.name}: {bestParams[param]}\")\n",
    "\n",
    "# We see the best model has a rank of 50, so we will use that in our future models with this dataset"
   ]
  },
  {
   "cell_type": "code",
   "execution_count": 57,
   "metadata": {
    "scrolled": true
   },
   "outputs": [
    {
     "name": "stdout",
     "output_type": "stream",
     "text": [
      "Best Model Score (RMSE): 0.8957251106557234\n",
      "Best Model Parameters:\n",
      "predictionCol: prediction\n",
      "blockSize: 4096\n",
      "coldStartStrategy: drop\n",
      "itemCol: movieId\n",
      "userCol: userId\n"
     ]
    }
   ],
   "source": [
    "print(\"Best Model Score (RMSE):\", bestScore)\n",
    "print(\"Best Model Parameters:\")\n",
    "for param, value in bestParams.items():\n",
    "    print(f\"{param.name}: {value}\")"
   ]
  },
  {
   "cell_type": "code",
   "execution_count": 58,
   "metadata": {},
   "outputs": [
    {
     "name": "stdout",
     "output_type": "stream",
     "text": [
      "Best Model Parameters:\n"
     ]
    },
    {
     "ename": "KeyError",
     "evalue": "Param(parent='ALS_6444dcfcbb6c', name='regParam', doc='regularization parameter (>= 0).')",
     "output_type": "error",
     "traceback": [
      "\u001b[0;31m---------------------------------------------------------------------------\u001b[0m",
      "\u001b[0;31mKeyError\u001b[0m                                  Traceback (most recent call last)",
      "Cell \u001b[0;32mIn[58], line 3\u001b[0m\n\u001b[1;32m      1\u001b[0m \u001b[38;5;28mprint\u001b[39m(\u001b[38;5;124m\"\u001b[39m\u001b[38;5;124mBest Model Parameters:\u001b[39m\u001b[38;5;124m\"\u001b[39m)\n\u001b[1;32m      2\u001b[0m \u001b[38;5;28;01mfor\u001b[39;00m param \u001b[38;5;129;01min\u001b[39;00m [als\u001b[38;5;241m.\u001b[39mregParam, als\u001b[38;5;241m.\u001b[39mrank]:\n\u001b[0;32m----> 3\u001b[0m     \u001b[38;5;28mprint\u001b[39m(\u001b[38;5;124mf\u001b[39m\u001b[38;5;124m\"\u001b[39m\u001b[38;5;132;01m{\u001b[39;00mparam\u001b[38;5;241m.\u001b[39mname\u001b[38;5;132;01m}\u001b[39;00m\u001b[38;5;124m: \u001b[39m\u001b[38;5;132;01m{\u001b[39;00mbestParams[param]\u001b[38;5;132;01m}\u001b[39;00m\u001b[38;5;124m\"\u001b[39m)\n",
      "\u001b[0;31mKeyError\u001b[0m: Param(parent='ALS_6444dcfcbb6c', name='regParam', doc='regularization parameter (>= 0).')"
     ]
    }
   ],
   "source": [
    "print(\"Best Model Parameters:\")\n",
    "for param in [als.regParam, als.rank]:\n",
    "    print(f\"{param.name}: {bestParams[param]}\")"
   ]
  },
  {
   "cell_type": "code",
   "execution_count": 59,
   "metadata": {
    "scrolled": true
   },
   "outputs": [
    {
     "name": "stderr",
     "output_type": "stream",
     "text": [
      "                                                                                \r"
     ]
    },
    {
     "name": "stdout",
     "output_type": "stream",
     "text": [
      "Best Model Score (RMSE): 0.8957251106557234\n",
      "Best Model Parameters:\n"
     ]
    },
    {
     "name": "stderr",
     "output_type": "stream",
     "text": [
      "                                                                                \r"
     ]
    },
    {
     "ename": "KeyError",
     "evalue": "Param(parent='ALS_6fd4c7e24d1e', name='regParam', doc='regularization parameter (>= 0).')",
     "output_type": "error",
     "traceback": [
      "\u001b[0;31m---------------------------------------------------------------------------\u001b[0m",
      "\u001b[0;31mKeyError\u001b[0m                                  Traceback (most recent call last)",
      "Cell \u001b[0;32mIn[59], line 29\u001b[0m\n\u001b[1;32m     27\u001b[0m \u001b[38;5;28mprint\u001b[39m(\u001b[38;5;124m\"\u001b[39m\u001b[38;5;124mBest Model Parameters:\u001b[39m\u001b[38;5;124m\"\u001b[39m)\n\u001b[1;32m     28\u001b[0m \u001b[38;5;28;01mfor\u001b[39;00m param \u001b[38;5;129;01min\u001b[39;00m [als\u001b[38;5;241m.\u001b[39mregParam, als\u001b[38;5;241m.\u001b[39mrank]:\n\u001b[0;32m---> 29\u001b[0m     \u001b[38;5;28mprint\u001b[39m(\u001b[38;5;124mf\u001b[39m\u001b[38;5;124m\"\u001b[39m\u001b[38;5;132;01m{\u001b[39;00mparam\u001b[38;5;241m.\u001b[39mname\u001b[38;5;132;01m}\u001b[39;00m\u001b[38;5;124m: \u001b[39m\u001b[38;5;132;01m{\u001b[39;00mbestParams[param]\u001b[38;5;132;01m}\u001b[39;00m\u001b[38;5;124m\"\u001b[39m)\n",
      "\u001b[0;31mKeyError\u001b[0m: Param(parent='ALS_6fd4c7e24d1e', name='regParam', doc='regularization parameter (>= 0).')"
     ]
    }
   ],
   "source": [
    "from pyspark.ml.recommendation import ALS\n",
    "from pyspark.ml.evaluation import RegressionEvaluator\n",
    "from pyspark.ml.tuning import CrossValidator, ParamGridBuilder\n",
    "\n",
    "# Initialize the ALS model\n",
    "als = ALS(userCol='userId', itemCol='movieId', ratingCol='rating', coldStartStrategy='drop')\n",
    "evaluator = RegressionEvaluator(metricName=\"rmse\", labelCol=\"rating\", predictionCol=\"prediction\")\n",
    "\n",
    "# Create the parameter grid\n",
    "params = (ParamGridBuilder()\n",
    "          .addGrid(als.regParam, [0.01, 0.001, 0.1])\n",
    "          .addGrid(als.rank, [4, 10, 50])\n",
    "          .build())\n",
    "\n",
    "# Instantiate CrossValidator estimator\n",
    "cv = CrossValidator(estimator=als,\n",
    "                    estimatorParamMaps=params,\n",
    "                    evaluator=evaluator)\n",
    "\n",
    "cvModel = cv.fit(movie_ratings)\n",
    "\n",
    "bestModel = cvModel.bestModel\n",
    "bestScore = min(cvModel.avgMetrics)\n",
    "bestParams = bestModel.extractParamMap()\n",
    "\n",
    "print(\"Best Model Score (RMSE):\", bestScore)\n",
    "print(\"Best Model Parameters:\")\n",
    "for param in [als.regParam, als.rank]:\n",
    "    print(f\"{param.name}: {bestParams[param]}\")\n",
    "\n"
   ]
  },
  {
   "cell_type": "markdown",
   "metadata": {},
   "source": [
    "### Incorporating the names of the movies\n",
    "\n",
    "When we make recommendations, it would be ideal if we could have the actual name of the movie used rather than just an ID. There is another file called `'./data/movies.csv'` that contains all of the names of the movies matched up to the `movie_id` that we have in the ratings dataset.\n",
    "\n",
    "* Import the data into a Spark DataFrame \n",
    "* Look at the first 5 rows"
   ]
  },
  {
   "cell_type": "code",
   "execution_count": 65,
   "metadata": {},
   "outputs": [
    {
     "data": {
      "text/plain": [
       "[Row(movieId=1, title='Toy Story (1995)', genres='Adventure|Animation|Children|Comedy|Fantasy'),\n",
       " Row(movieId=2, title='Jumanji (1995)', genres='Adventure|Children|Fantasy'),\n",
       " Row(movieId=3, title='Grumpier Old Men (1995)', genres='Comedy|Romance'),\n",
       " Row(movieId=4, title='Waiting to Exhale (1995)', genres='Comedy|Drama|Romance'),\n",
       " Row(movieId=5, title='Father of the Bride Part II (1995)', genres='Comedy')]"
      ]
     },
     "execution_count": 65,
     "metadata": {},
     "output_type": "execute_result"
    }
   ],
   "source": [
    "movie_titles = spark.read.csv('./data/movies.csv', header=\"true\", inferSchema=\"true\")\n",
    "\n",
    "movie_titles.head(5)"
   ]
  },
  {
   "cell_type": "markdown",
   "metadata": {},
   "source": [
    "We will eventually be matching up the movie ids with the movie titles. In the cell below, create a function `name_retriever()` that takes in a `movie_id` and returns a string that represents the movie title. \n",
    "\n",
    "> Hint: It's possible to do this operation in one line with the `df.where()` or the `df.filter()` methods "
   ]
  },
  {
   "cell_type": "code",
   "execution_count": 82,
   "metadata": {},
   "outputs": [],
   "source": [
    "def name_retriever(movie_id, movie_title_df):\n",
    "    return movie_title_df.filter(movie_title_df.movieId == movie_id).select('title').collect()[0]['title']"
   ]
  },
  {
   "cell_type": "code",
   "execution_count": 83,
   "metadata": {},
   "outputs": [
    {
     "name": "stdout",
     "output_type": "stream",
     "text": [
      "Winnie the Pooh and the Blustery Day (1968)\n"
     ]
    }
   ],
   "source": [
    "print(name_retriever(1023, movie_titles))"
   ]
  },
  {
   "cell_type": "markdown",
   "metadata": {},
   "source": [
    "## Getting Recommendations\n",
    "\n",
    "Now it's time to actually get some recommendations! The ALS model has built-in methods called `.recommendForUserSubset()` and `.recommendForAllUsers()`. We'll start off with using a subset of users. "
   ]
  },
  {
   "cell_type": "code",
   "execution_count": 89,
   "metadata": {},
   "outputs": [
    {
     "name": "stderr",
     "output_type": "stream",
     "text": [
      "                                                                                \r"
     ]
    },
    {
     "data": {
      "text/plain": [
       "[Row(userId=148, recommendations=[Row(movieId=98491, rating=4.566890239715576), Row(movieId=160718, rating=4.394077301025391), Row(movieId=33649, rating=4.376354694366455), Row(movieId=40629, rating=4.143664360046387), Row(movieId=7121, rating=4.130632400512695), Row(movieId=142488, rating=4.12627649307251), Row(movieId=30816, rating=4.103631019592285), Row(movieId=183897, rating=4.081643581390381), Row(movieId=122918, rating=4.038437366485596), Row(movieId=98243, rating=4.0353875160217285)])]"
      ]
     },
     "execution_count": 89,
     "metadata": {},
     "output_type": "execute_result"
    }
   ],
   "source": [
    "model = bestModel\n",
    "users = movie_ratings.select(als.getUserCol()).distinct().limit(1)\n",
    "userSubsetRecs = model.recommendForUserSubset(users, 10)\n",
    "recs = userSubsetRecs.take(1)\n",
    "recs"
   ]
  },
  {
   "cell_type": "markdown",
   "metadata": {},
   "source": [
    "We can now see we have a list of rows with recommended items. Now try and get the name of the top recommended movie by way of the function you just created, using number one item for this user."
   ]
  },
  {
   "cell_type": "code",
   "execution_count": 96,
   "metadata": {},
   "outputs": [
    {
     "data": {
      "text/plain": [
       "'Paperman (2012)'"
      ]
     },
     "execution_count": 96,
     "metadata": {},
     "output_type": "execute_result"
    }
   ],
   "source": [
    "# use indexing to obtain the movie id of top predicted rated item\n",
    "first_recommendation = recs[0]['recommendations'][0][0]\n",
    "\n",
    "# use the name retriever function to get the values\n",
    "name_retriever(first_recommendation,movie_titles)"
   ]
  },
  {
   "cell_type": "markdown",
   "metadata": {},
   "source": [
    "Of course, you can also make recommendations for everyone, although this will take longer. In the next line, we are creating an RDD with the top 5 recommendations for every user and then selecting one user to find out his predictions:"
   ]
  },
  {
   "cell_type": "code",
   "execution_count": 97,
   "metadata": {},
   "outputs": [
    {
     "name": "stderr",
     "output_type": "stream",
     "text": [
      "                                                                                \r"
     ]
    },
    {
     "data": {
      "text/plain": [
       "[Row(userId=3, recommendations=[Row(movieId=70946, rating=4.9636688232421875), Row(movieId=5746, rating=4.917801380157471), Row(movieId=6835, rating=4.917801380157471), Row(movieId=5919, rating=4.868616580963135), Row(movieId=5181, rating=4.858239650726318)])]"
      ]
     },
     "execution_count": 97,
     "metadata": {},
     "output_type": "execute_result"
    }
   ],
   "source": [
    "recommendations = model.recommendForAllUsers(5)\n",
    "recommendations.where(recommendations.userId == 3).collect()"
   ]
  },
  {
   "cell_type": "markdown",
   "metadata": {},
   "source": [
    "### Getting Predictions for a New User\n",
    "\n",
    "Now, it's time to put together all that you've learned in this section to create a function that will take in a new user and some movies they've rated and then return $n$ number of highest recommended movies. This function will have multiple different steps to it:\n",
    "\n",
    "* Adding the new ratings into the DataFrame (hint: look into using the `.union()` method) \n",
    "* Fitting the ALS model  \n",
    "* Make recommendations for the user of choice \n",
    "* Print out the names of the top $n$ recommendations in a reader-friendly manner \n",
    "\n",
    "The function should take in the parameters: \n",
    "\n",
    "* `user_id` : int \n",
    "* `new_ratings` : list of tuples in the format (user_id, item_id, rating)\n",
    "* `rating_df` : spark DF containing ratings\n",
    "* `movie_title_df` : spark DF containing movie titles\n",
    "* `num_recs` : int"
   ]
  },
  {
   "cell_type": "markdown",
   "metadata": {},
   "source": [
    "Rate new movies\n",
    "\n",
    "```python\n",
    "[Row(movieId=3253, title='Wayne's World (1992)', genres='Comedy'),\n",
    " Row(movieId=2459, title='Texas Chainsaw Massacre, The (1974)', genres='Horror'),\n",
    " Row(movieId=2513, title='Pet Sematary (1989)', genres='Horror'),\n",
    " Row(movieId=6502, title='28 Days Later (2002)', genres='Action|Horror|Sci-Fi'),\n",
    " Row(movieId=1091, title='Weekend at Bernie's (1989)', genres='Comedy'),\n",
    "Row(movieId=441, title='Dazed and Confused (1993)', genres='Comedy'),\n",
    "Row(movieId=370, title='Naked Gun 33 1/3: The Final Insult (1994)', genres='Action|Comedy')]\n",
    "\n",
    "```"
   ]
  },
  {
   "cell_type": "code",
   "execution_count": 134,
   "metadata": {},
   "outputs": [
    {
     "name": "stderr",
     "output_type": "stream",
     "text": [
      "                                                                                \r"
     ]
    }
   ],
   "source": [
    "from pyspark.sql import Row\n",
    "user_id = 666\n",
    "new_ratings = Ron_ratings\n",
    "rating_df = movie_ratings\n",
    "movie_title_df = movie_titles\n",
    "num_recs = 10\n",
    "\n",
    "new_rating_rows = [Row(user_id=i[0], movieId=i[1], rating=i[2]) for i in new_ratings]\n",
    "\n",
    "new_rating_df = spark.createDataFrame(new_rating_rows)\n",
    "    \n",
    "# combine the new ratings df with the rating_df\n",
    "updated_rating_df = rating_df.union(new_rating_df)\n",
    "\n",
    "# # create an ALS model and fit it\n",
    "als = ALS(userCol='userId', itemCol='movieId', ratingCol='rating', coldStartStrategy='drop', rank=50)\n",
    "model = als.fit(updated_rating_df)\n",
    "\n",
    "# # make recommendations for all users using the recommendForAllUsers method\n",
    "# recommendations = model.recommendForAllUsers(num_recs)\n",
    "\n",
    "\n",
    "# # get recommendations specifically for the new user that has been added to the DataFrame\n",
    "# user_rec_ids = recommendations.where(recommendations.userId == user_id).collect()[0]['recommendations']\n",
    "# num = 0\n",
    "# print(f'Top {num_recs} Movie Recommendations')\n",
    "# for i in user_rec_ids:\n",
    "#     num += 1\n",
    "#     id = i[0]\n",
    "#     title = name_retriever(id,movie_title_df)\n",
    "#     print(f'{num}. {title}')"
   ]
  },
  {
   "cell_type": "code",
   "execution_count": null,
   "metadata": {},
   "outputs": [],
   "source": []
  },
  {
   "cell_type": "code",
   "execution_count": 140,
   "metadata": {},
   "outputs": [],
   "source": [
    "def new_user_recs(user_id, new_ratings, rating_df, movie_title_df, num_recs):\n",
    "    # turn the new_recommendations list into a spark DataFrame\n",
    "    new_rating_rows = [Row(user_id=i[0], movieId=i[1], rating=i[2]) for i in new_ratings]\n",
    "\n",
    "    new_rating_df = spark.createDataFrame(new_rating_rows)\n",
    "        \n",
    "    # combine the new ratings df with the rating_df\n",
    "    updated_rating_df = rating_df.union(new_rating_df)\n",
    "    \n",
    "    # create an ALS model and fit it\n",
    "    als = ALS(userCol='userId', itemCol='movieId', ratingCol='rating', coldStartStrategy='drop', rank=50)\n",
    "    model = als.fit(updated_rating_df)\n",
    "    \n",
    "    # make recommendations for all users using the recommendForAllUsers method\n",
    "    recommendations = model.recommendForAllUsers(num_recs)\n",
    "\n",
    "\n",
    "    # get recommendations specifically for the new user that has been added to the DataFrame\n",
    "    user_rec_ids = recommendations.where(recommendations.userId == user_id).collect()[0]['recommendations']\n",
    "    num = 0\n",
    "    print(f'Top {num_recs} Movie Recommendations')\n",
    "    for i in user_rec_ids:\n",
    "        num += 1\n",
    "        id = i[0]\n",
    "        title = name_retriever(id,movie_title_df)\n",
    "        print(f'{num}. {title}')\n",
    "        "
   ]
  },
  {
   "cell_type": "code",
   "execution_count": 137,
   "metadata": {},
   "outputs": [
    {
     "name": "stderr",
     "output_type": "stream",
     "text": [
      "                                                                                \r"
     ]
    },
    {
     "name": "stdout",
     "output_type": "stream",
     "text": [
      "Top 10 Movie Recommendations\n",
      "1. Eat Drink Man Woman (Yin shi nan nu) (1994)\n",
      "2. Texas Chainsaw Massacre, The (1974)\n",
      "3. Seventh Seal, The (Sjunde inseglet, Det) (1957)\n",
      "4. Shine (1996)\n",
      "5. Victory (a.k.a. Escape to Victory) (1981)\n",
      "6. Patton (1970)\n",
      "7. Weekend at Bernie's (1989)\n",
      "8. Anne of Green Gables: The Sequel (a.k.a. Anne of Avonlea) (1987)\n",
      "9. Raiders of the Lost Ark (Indiana Jones and the Raiders of the Lost Ark) (1981)\n",
      "10. Saving Face (2004)\n"
     ]
    }
   ],
   "source": [
    "# make recommendations for all users using the recommendForAllUsers method\n",
    "recommendations = model.recommendForAllUsers(num_recs)\n",
    "\n",
    "\n",
    "# get recommendations specifically for the new user that has been added to the DataFrame\n",
    "user_rec_ids = recommendations.where(recommendations.userId == user_id).collect()[0]['recommendations']\n",
    "num = 0\n",
    "print(f'Top {num_recs} Movie Recommendations')\n",
    "for i in user_rec_ids:\n",
    "    num += 1\n",
    "    id = i[0]\n",
    "    title = name_retriever(id,movie_title_df)\n",
    "    print(f'{num}. {title}')"
   ]
  },
  {
   "cell_type": "code",
   "execution_count": 142,
   "metadata": {},
   "outputs": [
    {
     "name": "stderr",
     "output_type": "stream",
     "text": [
      "                                                                                \r"
     ]
    },
    {
     "name": "stdout",
     "output_type": "stream",
     "text": [
      "Top 10 Movie Recommendations\n",
      "1. Eat Drink Man Woman (Yin shi nan nu) (1994)\n",
      "2. Texas Chainsaw Massacre, The (1974)\n",
      "3. Seventh Seal, The (Sjunde inseglet, Det) (1957)\n",
      "4. Shine (1996)\n",
      "5. Victory (a.k.a. Escape to Victory) (1981)\n",
      "6. Patton (1970)\n",
      "7. Weekend at Bernie's (1989)\n",
      "8. Anne of Green Gables: The Sequel (a.k.a. Anne of Avonlea) (1987)\n",
      "9. Raiders of the Lost Ark (Indiana Jones and the Raiders of the Lost Ark) (1981)\n",
      "10. Saving Face (2004)\n"
     ]
    }
   ],
   "source": [
    "# try out your function with the movies listed above\n",
    "Ron_ratings = [(666, 3253, 3),\n",
    "               (666, 2459, 5),\n",
    "               (666, 2513, 3),\n",
    "               (666, 6502, 5),\n",
    "               (666, 1091, 5),\n",
    "               (666, 441, 3),\n",
    "               (666, 370, 2)]\n",
    "\n",
    "new_user_recs(666, Ron_ratings, movie_ratings, movie_titles, 10)"
   ]
  },
  {
   "cell_type": "markdown",
   "metadata": {},
   "source": [
    "So here we have it! Our recommendation system is generating recommendations for the top 10 movies. \n",
    "\n",
    "\n",
    "\n",
    "\n",
    "## Level up (Optional)\n",
    "\n",
    "\n",
    "* Create a user interface to allow users to easily choose items and get recommendations \n",
    "\n",
    "* Use IMDB links to scrape user reviews from IMDB and using basic NLP techniques, create extra embeddings for ALS model  \n",
    "\n",
    "* Create a hybrid recommender system using features like genre \n",
    "\n",
    "## Summary\n",
    "\n",
    "In this lab, you built a model using Spark, performed some parameter selection, and updated the model every time new user preferences came in. You looked at how Spark's ALS implementation can be used to build a scalable and efficient recommendation system. You also saw that such systems can become computationally expensive and using them with an online system could be a problem with traditional computational platforms. Spark's distributed computing architecture provides a great solution to deploy such recommendation systems for real-world applications (think Amazon, Spotify)."
   ]
  },
  {
   "cell_type": "code",
   "execution_count": null,
   "metadata": {},
   "outputs": [],
   "source": []
  }
 ],
 "metadata": {
  "kernelspec": {
   "display_name": "Python 3 (ipykernel)",
   "language": "python",
   "name": "python3"
  },
  "language_info": {
   "codemirror_mode": {
    "name": "ipython",
    "version": 3
   },
   "file_extension": ".py",
   "mimetype": "text/x-python",
   "name": "python",
   "nbconvert_exporter": "python",
   "pygments_lexer": "ipython3",
   "version": "3.8.18"
  }
 },
 "nbformat": 4,
 "nbformat_minor": 4
}
